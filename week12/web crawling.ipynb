{
 "cells": [
  {
   "cell_type": "code",
   "execution_count": null,
   "metadata": {
    "collapsed": true,
    "is_executing": true
   },
   "outputs": [],
   "source": [
    "import requests\n",
    "from lxml import html\n",
    "from IPython.display import Image, display"
   ]
  },
  {
   "cell_type": "markdown",
   "metadata": {
    "collapsed": false
   },
   "source": [
    "# 총장님의 프로필 사진과 약력 가져오기"
   ]
  },
  {
   "cell_type": "markdown",
   "metadata": {
    "collapsed": false
   },
   "source": [
    "[링크](https://www.korea.ac.kr/mbshome/mbs/university/subview.do?id=university_010202000000) 여기서 총장님의 프로필과 약력을 알 수 있어요."
   ]
  },
  {
   "cell_type": "code",
   "execution_count": null,
   "metadata": {
    "is_executing": true
   },
   "outputs": [],
   "source": [
    "president_img_url = 'https://www.korea.ac.kr/dext5editordata/2023/04/20230404_091647948_72075.jpg'\n",
    "president_img = requests.get(president_img_url).content\n",
    "display(Image(president_img))"
   ]
  },
  {
   "cell_type": "markdown",
   "metadata": {},
   "source": [
    "## 총장님 프사 저장하기"
   ]
  },
  {
   "cell_type": "code",
   "execution_count": null,
   "metadata": {
    "collapsed": false
   },
   "outputs": [],
   "source": [
    "with open('profile_image.jpg','wb') as f:\n",
    "    f.write(president_img)"
   ]
  },
  {
   "cell_type": "markdown",
   "metadata": {
    "collapsed": false
   },
   "source": [
    "## 이번에는 약력을 가져와 보자\n",
    " - 개발자 도구를 열어서 아래 크롤링한 페이지와 비교해 봐요."
   ]
  },
  {
   "cell_type": "code",
   "execution_count": null,
   "metadata": {
    "collapsed": false
   },
   "outputs": [],
   "source": [
    "response = requests.get('https://www.korea.ac.kr/mbshome/mbs/university/subview.do?id=university_010202000000')\n",
    "president_resume = html.fromstring(response.text)\n",
    "president_resume"
   ]
  },
  {
   "cell_type": "markdown",
   "metadata": {},
   "source": [
    "## 우선 개발자 도구에서 내가 가져오기를 원하는 요소를 Elements 탭에서 선택하여 xpath를 복사해 온다.\n",
    "<img src='../resources/xpath.gif' alt='president' width='2000'/>"
   ]
  },
  {
   "cell_type": "markdown",
   "metadata": {},
   "source": [
    "## 약간의 xpath 문법을 알아야 합니다.\n",
    "### 기본 구조\n",
    " - 노드 선택: XPath는 다양한 종류의 노드를 선택할 수 있습니다(예: 요소, 속성, 텍스트 등).\n",
    " - 경로 표현: / (루트 노드로부터의 절대 경로), // (문서 내 어느 위치에서나 시작하는 상대 경로) 등을 사용합니다.\n",
    "\n",
    "### 주요 표현\n",
    "\n",
    " - `/`: 루트 노드에서 시작하는 절대 경로를 나타냅니다.\n",
    " - `//`: 현재 노드 위치와 관계없이 지정된 노드를 찾습니다.\n",
    " - `@`: 속성을 나타냅니다.\n",
    " - `*`: 모든 요소를 선택합니다.\n",
    " - `[n]`: n번째 요소를 선택합니다 (1부터 시작).\n"
   ]
  },
  {
   "cell_type": "code",
   "execution_count": null,
   "metadata": {},
   "outputs": [],
   "source": [
    "president_resume_text = president_resume.xpath('//*[@id=\"contents_body\"]/div[2]/div[1]/dl//text()')"
   ]
  },
  {
   "cell_type": "markdown",
   "metadata": {},
   "source": [
    "- **`//*`**: 문서 내의 모든 요소를 선택합니다.\n",
    "- **`[@id=\"contents_body\"]`**: **`id`** 속성이 **`contents_body`**인 요소를 찾습니다.\n",
    "- **`/div[2]`**: 선택된 요소의 두 번째 **`div`** 자식을 선택합니다.\n",
    "- **`/div[1]`**: 그 **`div`** 의 첫 번째 **`div`** 자식을 선택합니다.\n",
    "- **`/dl`**: 이 **`div`** 의 모든 **`dl`** (정의 목록) 자식 요소를 선택합니다.\n",
    "- **`//text()`**: 선택된 **`dl`** 요소들 내의 모든 텍스트 노드를 선택합니다.\n",
    "\n",
    "내용이 더 궁금하면 다음 링크를 참조하세요.(30분이면 xpath 문법을 익힐 수 있어요.)\n",
    "\n",
    "링크: https://www.w3schools.com/xml/xpath_intro.asp"
   ]
  },
  {
   "cell_type": "markdown",
   "metadata": {},
   "source": [
    "### 총장님 약력을 파일로 저장하기"
   ]
  },
  {
   "cell_type": "code",
   "execution_count": null,
   "metadata": {},
   "outputs": [],
   "source": [
    "president_resume_text = [text.strip(\"\\n \") for text in  president_resume_text ]\n",
    "president_resume_text = [text for text in  president_resume_text if text !='']\n",
    "president_resume_text = \"\\n\".join(president_resume_text)"
   ]
  },
  {
   "cell_type": "code",
   "execution_count": null,
   "metadata": {},
   "outputs": [],
   "source": [
    "with open('president_resume.txt', 'w') as f:\n",
    "    f.write(president_resume_text)"
   ]
  },
  {
   "cell_type": "markdown",
   "metadata": {
    "collapsed": false
   },
   "source": [
    "## 내가 좋아하는 웹툰을 파일로 저장해보자."
   ]
  },
  {
   "cell_type": "markdown",
   "metadata": {},
   "source": [
    "### 이미지 파일들 주소 가져오기: GET 방식이 쓰였음을 기억하기"
   ]
  },
  {
   "cell_type": "code",
   "execution_count": null,
   "metadata": {
    "collapsed": false
   },
   "outputs": [],
   "source": [
    "webtoon_url = 'https://comic.naver.com/webtoon/detail?titleId=478261&no=87&week=thu'\n",
    "webtoon_page = requests.get(webtoon_url).text\n",
    "image_list = html.fromstring(webtoon_page).xpath('/html/body/div[1]/div[3]/div[1]//img/@src')\n",
    "image_list"
   ]
  },
  {
   "cell_type": "code",
   "execution_count": null,
   "metadata": {
    "collapsed": false
   },
   "outputs": [],
   "source": [
    "for img_url in image_list:\n",
    "    response = requests.get(img_url)\n",
    "    print(response)\n",
    "    break"
   ]
  },
  {
   "cell_type": "markdown",
   "metadata": {},
   "source": [
    "## Response가 4로 시작하면, 실패했다는 뜻입니다. 특히 403 에러는 서버에서 접근을 금지시켜 놓은 것입니다.\n",
    " - 네이버에서 Yeti만을 크롤링을 허락했다는 사실을 기억해 내세요.\n",
    " - 링크: https://searchadvisor.naver.com/guide/seo-basic-firewall"
   ]
  },
  {
   "cell_type": "code",
   "execution_count": null,
   "metadata": {
    "collapsed": false
   },
   "outputs": [],
   "source": [
    "headers = {\n",
    "    'User-Agent': 'Mozilla/5.0 (Windows NT 6.1; Win64; x64) AppleWebit/53.7.36 (KHTML, like Gecko) Chrome/63.0.3239.0 Safari/537.36 (compatible; Yeti/1.1; +https://naver.me/spd)',\n",
    "}\n",
    "for idx, img_url in enumerate(image_list):\n",
    "    response = requests.get(img_url, headers=headers)\n",
    "    with open(str(idx)+'.jpg','wb') as f:\n",
    "        f.write(response.content)"
   ]
  },
  {
   "cell_type": "markdown",
   "metadata": {
    "collapsed": false
   },
   "source": [
    "## 쿠팡 장바구니에 물건 마구마구 담기\n",
    " - 쿠팡에 먼저 로그인 해 두세요.\n",
    " - 다음 라면 구매 링크로 이동하세요. 링크: https://www.coupang.com/vp/products/7958974?itemId=93553&vendorItemId=3000207618&q=%EC%8B%A0%EB%9D%BC%EB%A9%B4&itemsCount=36&searchId=d0a0c8fb34964c0f939e8de0aa2a3d05&rank=0&isAddedCart="
   ]
  },
  {
   "cell_type": "markdown",
   "metadata": {},
   "source": [
    "<img src='../resources/ramen.gif' alt='president' width='2000'/>"
   ]
  },
  {
   "cell_type": "markdown",
   "metadata": {},
   "source": [
    "다음 사이트에 이동해서 방금 복사한 내용을 붙여 넣으세요.\n",
    " - 링크: https://curlconverter.com/python/"
   ]
  },
  {
   "cell_type": "markdown",
   "metadata": {},
   "source": [
    "<img src='../resources/curl.gif' alt='president' width='2000'/>\n"
   ]
  },
  {
   "cell_type": "code",
   "execution_count": null,
   "metadata": {},
   "outputs": [],
   "source": [
    "# 방금 복사한 내용을 여기 붙여 넣고 실행하세요. 3번 정도 실행해 보고 쿠팡 내 장바구니에 가보세요."
   ]
  },
  {
   "cell_type": "markdown",
   "metadata": {},
   "source": [
    "### POST 방식이 쓰였음을 꼭 기억하세요."
   ]
  }
 ],
 "metadata": {
  "kernelspec": {
   "display_name": "Python 3",
   "language": "python",
   "name": "python3"
  },
  "language_info": {
   "codemirror_mode": {
    "name": "ipython",
    "version": 3
   },
   "file_extension": ".py",
   "mimetype": "text/x-python",
   "name": "python",
   "nbconvert_exporter": "python",
   "pygments_lexer": "ipython3",
   "version": "3.9.7"
  }
 },
 "nbformat": 4,
 "nbformat_minor": 0
}
